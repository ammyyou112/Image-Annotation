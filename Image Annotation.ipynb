{
 "cells": [
  {
   "cell_type": "code",
   "execution_count": 1,
   "id": "f6067567",
   "metadata": {},
   "outputs": [],
   "source": [
    "import cv2\n",
    "import json\n",
    "import matplotlib.pyplot as plt\n",
    "import matplotlib.patches as patches\n",
    "import os"
   ]
  },
  {
   "cell_type": "code",
   "execution_count": 2,
   "id": "7389cb6e",
   "metadata": {},
   "outputs": [
    {
     "data": {
      "text/plain": [
       "dict_keys(['_via_settings', '_via_img_metadata', '_via_attributes'])"
      ]
     },
     "execution_count": 2,
     "metadata": {},
     "output_type": "execute_result"
    }
   ],
   "source": [
    "with open('cat_dog/cat_dog_annotations.json') as f:\n",
    "    data = json.load(f)\n",
    "    \n",
    "data.keys()"
   ]
  },
  {
   "cell_type": "code",
   "execution_count": 3,
   "id": "7b60f317",
   "metadata": {
    "scrolled": false
   },
   "outputs": [
    {
     "name": "stdout",
     "output_type": "stream",
     "text": [
      "Project name: via_project_18Oct2022_11h49m\n",
      "Image ID: 1.jpeg45602\n",
      "Filename: 1.jpeg\n",
      "Size: 45602\n",
      "Regions: [{'shape_attributes': {'name': 'rect', 'x': 284, 'y': 27, 'width': 365, 'height': 478}, 'region_attributes': {'class': {'dog': True}}}]\n",
      "Image ID: 2.jpeg4669\n",
      "Filename: 2.jpeg\n",
      "Size: 4669\n",
      "Regions: [{'shape_attributes': {'name': 'rect', 'x': 6, 'y': 39, 'width': 150, 'height': 107}, 'region_attributes': {'class': {'dog': True}}}, {'shape_attributes': {'name': 'rect', 'x': 160, 'y': 77, 'width': 99, 'height': 65}, 'region_attributes': {'class': {'cat': True}}}]\n",
      "Image ID: 3.jpeg6828\n",
      "Filename: 3.jpeg\n",
      "Size: 6828\n",
      "Regions: [{'shape_attributes': {'name': 'rect', 'x': 57, 'y': 3, 'width': 186, 'height': 141}, 'region_attributes': {'class': {'cat': True}}}]\n",
      "Image ID: 4.jpeg198685\n",
      "Filename: 4.jpeg\n",
      "Size: 198685\n",
      "Regions: [{'shape_attributes': {'name': 'rect', 'x': 85, 'y': 307, 'width': 830, 'height': 1442}, 'region_attributes': {'class': {'cat': True}}}]\n",
      "Image ID: 5.jpeg54509\n",
      "Filename: 5.jpeg\n",
      "Size: 54509\n",
      "Regions: [{'shape_attributes': {'name': 'rect', 'x': 33, 'y': 65, 'width': 735, 'height': 738}, 'region_attributes': {'class': {'dog': True}}}]\n",
      "Image ID: 6.jpeg60092\n",
      "Filename: 6.jpeg\n",
      "Size: 60092\n",
      "Regions: [{'shape_attributes': {'name': 'rect', 'x': 89, 'y': 55, 'width': 140, 'height': 190}, 'region_attributes': {'class': {'dog': True}}}, {'shape_attributes': {'name': 'rect', 'x': 242, 'y': 142, 'width': 167, 'height': 115}, 'region_attributes': {'class': {'cat': True}}}]\n",
      "Image ID: 7.jpeg394361\n",
      "Filename: 7.jpeg\n",
      "Size: 394361\n",
      "Regions: [{'shape_attributes': {'name': 'rect', 'x': 612, 'y': 192, 'width': 269, 'height': 234}, 'region_attributes': {'class': {'dog': True}}}, {'shape_attributes': {'name': 'rect', 'x': 321, 'y': 252, 'width': 267, 'height': 162}, 'region_attributes': {'class': {'cat': True}}}]\n"
     ]
    }
   ],
   "source": [
    "project_name = data['_via_settings']['project']['name']\n",
    "print(f\"Project name: {project_name}\")\n",
    "\n",
    "#image metadata\n",
    "for image_id, image_data in data['_via_img_metadata'].items():\n",
    "    filename = image_data['filename']\n",
    "    size = image_data['size']\n",
    "    regions = image_data['regions']\n",
    "    print(f\"Image ID: {image_id}\")\n",
    "    print(f\"Filename: {filename}\")\n",
    "    print(f\"Size: {size}\")\n",
    "    print(f\"Regions: {regions}\")"
   ]
  },
  {
   "cell_type": "code",
   "execution_count": 4,
   "id": "6142f371",
   "metadata": {},
   "outputs": [
    {
     "name": "stderr",
     "output_type": "stream",
     "text": [
      "[ WARN:0@1.451] global loadsave.cpp:244 findDecoder imread_('/Users/macbook/Documents/Ammad/Cvpract/1.jpeg'): can't open/read file: check file path/integrity\n"
     ]
    },
    {
     "ename": "error",
     "evalue": "OpenCV(4.7.0) /Users/runner/work/opencv-python/opencv-python/opencv/modules/imgproc/src/color.cpp:182: error: (-215:Assertion failed) !_src.empty() in function 'cvtColor'\n",
     "output_type": "error",
     "traceback": [
      "\u001b[0;31m---------------------------------------------------------------------------\u001b[0m",
      "\u001b[0;31merror\u001b[0m                                     Traceback (most recent call last)",
      "\u001b[0;32m/var/folders/wn/9ykg13654sv1ssr2y48g95pc0000gn/T/ipykernel_917/1932188140.py\u001b[0m in \u001b[0;36m<module>\u001b[0;34m\u001b[0m\n\u001b[1;32m      3\u001b[0m     \u001b[0mimage_cv2\u001b[0m \u001b[0;34m=\u001b[0m \u001b[0mcv2\u001b[0m\u001b[0;34m.\u001b[0m\u001b[0mimread\u001b[0m\u001b[0;34m(\u001b[0m\u001b[0mfile_path\u001b[0m\u001b[0;34m)\u001b[0m\u001b[0;34m\u001b[0m\u001b[0;34m\u001b[0m\u001b[0m\n\u001b[1;32m      4\u001b[0m \u001b[0;34m\u001b[0m\u001b[0m\n\u001b[0;32m----> 5\u001b[0;31m     \u001b[0mimage_rgb\u001b[0m \u001b[0;34m=\u001b[0m \u001b[0mcv2\u001b[0m\u001b[0;34m.\u001b[0m\u001b[0mcvtColor\u001b[0m\u001b[0;34m(\u001b[0m\u001b[0mimage_cv2\u001b[0m\u001b[0;34m,\u001b[0m \u001b[0mcv2\u001b[0m\u001b[0;34m.\u001b[0m\u001b[0mCOLOR_BGR2RGB\u001b[0m\u001b[0;34m)\u001b[0m\u001b[0;34m\u001b[0m\u001b[0;34m\u001b[0m\u001b[0m\n\u001b[0m\u001b[1;32m      6\u001b[0m     \u001b[0mfig\u001b[0m\u001b[0;34m,\u001b[0m \u001b[0max\u001b[0m \u001b[0;34m=\u001b[0m \u001b[0mplt\u001b[0m\u001b[0;34m.\u001b[0m\u001b[0msubplots\u001b[0m\u001b[0;34m(\u001b[0m\u001b[0;34m)\u001b[0m\u001b[0;34m\u001b[0m\u001b[0;34m\u001b[0m\u001b[0m\n\u001b[1;32m      7\u001b[0m     \u001b[0max\u001b[0m\u001b[0;34m.\u001b[0m\u001b[0mimshow\u001b[0m\u001b[0;34m(\u001b[0m\u001b[0mimage_rgb\u001b[0m\u001b[0;34m)\u001b[0m\u001b[0;34m\u001b[0m\u001b[0;34m\u001b[0m\u001b[0m\n",
      "\u001b[0;31merror\u001b[0m: OpenCV(4.7.0) /Users/runner/work/opencv-python/opencv-python/opencv/modules/imgproc/src/color.cpp:182: error: (-215:Assertion failed) !_src.empty() in function 'cvtColor'\n"
     ]
    }
   ],
   "source": [
    "for image_id, image_data in data['_via_img_metadata'].items():\n",
    "    file_path = os.path.join(os.getcwd(), image_data['filename'])\n",
    "    image_cv2 = cv2.imread(file_path)\n",
    "    \n",
    "    image_rgb = cv2.cvtColor(image_cv2, cv2.COLOR_BGR2RGB)\n",
    "    fig, ax = plt.subplots()\n",
    "    ax.imshow(image_rgb)\n",
    "\n",
    "    for region in image_data['regions']:\n",
    "        x = region['shape_attributes']['x']\n",
    "        y = region['shape_attributes']['y']\n",
    "        w = region['shape_attributes']['width']\n",
    "        h = region['shape_attributes']['height']\n",
    "        label = region['region_attributes']['class']\n",
    "\n",
    "        rect = patches.Rectangle((x, y), w, h, linewidth=3, edgecolor='r', facecolor='none')\n",
    "        ax.add_patch(rect)\n",
    "        ax.text(x, y, label, color='b', fontsize=10)\n",
    "\n",
    "\n",
    "    plt.show()"
   ]
  },
  {
   "cell_type": "code",
   "execution_count": null,
   "id": "773f1798",
   "metadata": {},
   "outputs": [],
   "source": []
  }
 ],
 "metadata": {
  "kernelspec": {
   "display_name": "Python 3 (ipykernel)",
   "language": "python",
   "name": "python3"
  },
  "language_info": {
   "codemirror_mode": {
    "name": "ipython",
    "version": 3
   },
   "file_extension": ".py",
   "mimetype": "text/x-python",
   "name": "python",
   "nbconvert_exporter": "python",
   "pygments_lexer": "ipython3",
   "version": "3.9.13"
  }
 },
 "nbformat": 4,
 "nbformat_minor": 5
}
